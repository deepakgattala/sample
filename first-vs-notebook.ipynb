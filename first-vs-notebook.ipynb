{
 "cells": [
  {
   "cell_type": "code",
   "execution_count": 1,
   "metadata": {},
   "outputs": [
    {
     "name": "stdout",
     "output_type": "stream",
     "text": [
      "+----------+---------+-------------------+\n",
      "|CustomerID|FirstName|           LastName|\n",
      "+----------+---------+-------------------+\n",
      "|      1000|  Mathijs|Oosterhout-Rijntjes|\n",
      "|      1001|    Joost|      van Brunswijk|\n",
      "|      1002|     Stan|          Bokenkamp|\n",
      "+----------+---------+-------------------+\n",
      "\n"
     ]
    }
   ],
   "source": [
    "from pyspark.sql import SparkSession\n",
    "from pyspark.sql.types import *\n",
    "\n",
    "spark = SparkSession.builder.getOrCreate()\n",
    "\n",
    "schema = StructType([\n",
    "  StructField('CustomerID', IntegerType(), False),\n",
    "  StructField('FirstName',  StringType(),  False),\n",
    "  StructField('LastName',   StringType(),  False)\n",
    "])\n",
    "\n",
    "data = [\n",
    "  [ 1000, 'Mathijs', 'Oosterhout-Rijntjes' ],\n",
    "  [ 1001, 'Joost',   'van Brunswijk' ],\n",
    "  [ 1002, 'Stan',    'Bokenkamp' ]\n",
    "]\n",
    "\n",
    "customers = spark.createDataFrame(data, schema)\n",
    "customers.show()"
   ]
  },
  {
   "cell_type": "code",
   "execution_count": null,
   "metadata": {},
   "outputs": [],
   "source": []
  },
  {
   "cell_type": "code",
   "execution_count": null,
   "metadata": {},
   "outputs": [],
   "source": []
  },
  {
   "cell_type": "code",
   "execution_count": null,
   "metadata": {},
   "outputs": [],
   "source": []
  }
 ],
 "metadata": {
  "kernelspec": {
   "display_name": "Python 3.8.8 ('base')",
   "language": "python",
   "name": "python3"
  },
  "language_info": {
   "codemirror_mode": {
    "name": "ipython",
    "version": 3
   },
   "file_extension": ".py",
   "mimetype": "text/x-python",
   "name": "python",
   "nbconvert_exporter": "python",
   "pygments_lexer": "ipython3",
   "version": "3.8.8"
  },
  "orig_nbformat": 4,
  "vscode": {
   "interpreter": {
    "hash": "8c544a3749644af604a3286d194392e219dfbb1dd69f151e85127aeb4d1a2946"
   }
  }
 },
 "nbformat": 4,
 "nbformat_minor": 2
}
