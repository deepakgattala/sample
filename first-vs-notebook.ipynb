{
 "cells": [
  {
   "cell_type": "code",
   "execution_count": 3,
   "metadata": {},
   "outputs": [
    {
     "name": "stdout",
     "output_type": "stream",
     "text": [
      "+----------+---------+-------------------+----------+\n",
      "|CustomerID|FirstName|           LastName|department|\n",
      "+----------+---------+-------------------+----------+\n",
      "|      1000|  Mathijs|Oosterhout-Rijntjes|      MKTG|\n",
      "|      1001|    Joost|      van Brunswijk|       SVC|\n",
      "|      1002|     Stan|          Bokenkamp|     SALES|\n",
      "+----------+---------+-------------------+----------+\n",
      "\n"
     ]
    }
   ],
   "source": [
    "from pyspark.sql import SparkSession\n",
    "from pyspark.sql.types import *\n",
    "\n",
    "spark = SparkSession.builder.getOrCreate()\n",
    "\n",
    "schema = StructType([\n",
    "  StructField('CustomerID', IntegerType(), False),\n",
    "  StructField('FirstName',  StringType(),  False),\n",
    "  StructField('LastName',   StringType(),  False),\n",
    "])\n",
    "\n",
    "data = [\n",
    "  [ 1000, 'Mathijs', 'Oosterhout-Rijntjes' ],\n",
    "  [ 1001, 'Joost',   'van Brunswijk'],\n",
    "  [ 1002, 'Stan',    'Bokenkamp' ]\n",
    "]\n",
    "\n",
    "customers = spark.createDataFrame(data, schema)\n",
    "customers.show()\n"
   ]
  },
  {
   "cell_type": "markdown",
   "metadata": {},
   "source": []
  },
  {
   "cell_type": "code",
   "execution_count": null,
   "metadata": {},
   "outputs": [],
   "source": []
  }
 ],
 "metadata": {
  "kernelspec": {
   "display_name": "Python 3.9.6 64-bit",
   "language": "python",
   "name": "python3"
  },
  "language_info": {
   "codemirror_mode": {
    "name": "ipython",
    "version": 3
   },
   "file_extension": ".py",
   "mimetype": "text/x-python",
   "name": "python",
   "nbconvert_exporter": "python",
   "pygments_lexer": "ipython3",
   "version": "3.9.6"
  },
  "orig_nbformat": 4,
  "vscode": {
   "interpreter": {
    "hash": "31f2aee4e71d21fbe5cf8b01ff0e069b9275f58929596ceb00d14d90e3e16cd6"
   }
  }
 },
 "nbformat": 4,
 "nbformat_minor": 2
}
